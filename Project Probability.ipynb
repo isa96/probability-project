{
 "cells": [
  {
   "attachments": {},
   "cell_type": "markdown",
   "id": "f7624a82-a4f7-47fa-a7e8-1f744e61ddd1",
   "metadata": {},
   "source": [
    "## Project Probability\n"
   ]
  },
  {
   "cell_type": "code",
   "execution_count": 1,
   "id": "3c349b8b-49e1-46a7-9c4f-e34fb14133cd",
   "metadata": {},
   "outputs": [],
   "source": [
    "import pandas as pd\n",
    "import numpy as np\n",
    "import matplotlib.pyplot as plt"
   ]
  },
  {
   "cell_type": "code",
   "execution_count": 2,
   "id": "52dbf48d-ae96-4b37-a337-ad18e4ecac1e",
   "metadata": {},
   "outputs": [],
   "source": [
    "df = pd.read_csv('insurance.csv')"
   ]
  },
  {
   "cell_type": "code",
   "execution_count": 3,
   "id": "6d2554f1-8129-4d55-83e5-806163dd91c5",
   "metadata": {},
   "outputs": [
    {
     "data": {
      "text/html": [
       "<div>\n",
       "<style scoped>\n",
       "    .dataframe tbody tr th:only-of-type {\n",
       "        vertical-align: middle;\n",
       "    }\n",
       "\n",
       "    .dataframe tbody tr th {\n",
       "        vertical-align: top;\n",
       "    }\n",
       "\n",
       "    .dataframe thead th {\n",
       "        text-align: right;\n",
       "    }\n",
       "</style>\n",
       "<table border=\"1\" class=\"dataframe\">\n",
       "  <thead>\n",
       "    <tr style=\"text-align: right;\">\n",
       "      <th></th>\n",
       "      <th>age</th>\n",
       "      <th>sex</th>\n",
       "      <th>bmi</th>\n",
       "      <th>children</th>\n",
       "      <th>smoker</th>\n",
       "      <th>region</th>\n",
       "      <th>charges</th>\n",
       "    </tr>\n",
       "  </thead>\n",
       "  <tbody>\n",
       "    <tr>\n",
       "      <th>0</th>\n",
       "      <td>19</td>\n",
       "      <td>female</td>\n",
       "      <td>27.900</td>\n",
       "      <td>0</td>\n",
       "      <td>yes</td>\n",
       "      <td>southwest</td>\n",
       "      <td>16884.92400</td>\n",
       "    </tr>\n",
       "    <tr>\n",
       "      <th>1</th>\n",
       "      <td>18</td>\n",
       "      <td>male</td>\n",
       "      <td>33.770</td>\n",
       "      <td>1</td>\n",
       "      <td>no</td>\n",
       "      <td>southeast</td>\n",
       "      <td>1725.55230</td>\n",
       "    </tr>\n",
       "    <tr>\n",
       "      <th>2</th>\n",
       "      <td>28</td>\n",
       "      <td>male</td>\n",
       "      <td>33.000</td>\n",
       "      <td>3</td>\n",
       "      <td>no</td>\n",
       "      <td>southeast</td>\n",
       "      <td>4449.46200</td>\n",
       "    </tr>\n",
       "    <tr>\n",
       "      <th>3</th>\n",
       "      <td>33</td>\n",
       "      <td>male</td>\n",
       "      <td>22.705</td>\n",
       "      <td>0</td>\n",
       "      <td>no</td>\n",
       "      <td>northwest</td>\n",
       "      <td>21984.47061</td>\n",
       "    </tr>\n",
       "    <tr>\n",
       "      <th>4</th>\n",
       "      <td>32</td>\n",
       "      <td>male</td>\n",
       "      <td>28.880</td>\n",
       "      <td>0</td>\n",
       "      <td>no</td>\n",
       "      <td>northwest</td>\n",
       "      <td>3866.85520</td>\n",
       "    </tr>\n",
       "  </tbody>\n",
       "</table>\n",
       "</div>"
      ],
      "text/plain": [
       "   age     sex     bmi  children smoker     region      charges\n",
       "0   19  female  27.900         0    yes  southwest  16884.92400\n",
       "1   18    male  33.770         1     no  southeast   1725.55230\n",
       "2   28    male  33.000         3     no  southeast   4449.46200\n",
       "3   33    male  22.705         0     no  northwest  21984.47061\n",
       "4   32    male  28.880         0     no  northwest   3866.85520"
      ]
     },
     "execution_count": 3,
     "metadata": {},
     "output_type": "execute_result"
    }
   ],
   "source": [
    "df.head()"
   ]
  },
  {
   "cell_type": "code",
   "execution_count": 5,
   "id": "28d6d570-5237-49ac-ba9b-1ee76256a12b",
   "metadata": {},
   "outputs": [
    {
     "name": "stdout",
     "output_type": "stream",
     "text": [
      "<class 'pandas.core.frame.DataFrame'>\n",
      "RangeIndex: 1338 entries, 0 to 1337\n",
      "Data columns (total 7 columns):\n",
      " #   Column    Non-Null Count  Dtype  \n",
      "---  ------    --------------  -----  \n",
      " 0   age       1338 non-null   int64  \n",
      " 1   sex       1338 non-null   object \n",
      " 2   bmi       1338 non-null   float64\n",
      " 3   children  1338 non-null   int64  \n",
      " 4   smoker    1338 non-null   object \n",
      " 5   region    1338 non-null   object \n",
      " 6   charges   1338 non-null   float64\n",
      "dtypes: float64(2), int64(2), object(3)\n",
      "memory usage: 73.3+ KB\n"
     ]
    }
   ],
   "source": [
    "df.info()"
   ]
  },
  {
   "cell_type": "markdown",
   "id": "a1c8358a-5b82-4ba1-a69c-27c64a08a6c2",
   "metadata": {},
   "source": [
    "### Descriptive Statistic\n",
    "Pilih lima:\n",
    "1. Rata-rata umur pengguna\n",
    "2. Rata-rata nilai BMI dari pengguna yang merokok\n",
    "3. Berapa rata rata umur pada data tersebut?\n",
    "4. Berapa rata rata nilai BMI dari yang merokok?\n",
    "5. Apakah variansi dari data charges perokok dan non perokok sama?\n",
    "6. Apakah rata rata umur perempuan dan laki-laki yang merokok sama?\n",
    "7. Mana yang lebih tinggi, rata rata tagihan kesehatan perokok atau non merokok?\n",
    "8. Mana yang lebih tinggi, rata rata tagihan kesehatan perokok yang BMI nya diatas 25\n",
    "atau non perokok yang BMI nya diatas 25\n",
    "9. BMI mana yang lebih tinggi, seseorang laki-laki atau perempuan?\n",
    "10. BMI mana yang lebih tinggi, seseorang perokok atau non perokok?\n"
   ]
  },
  {
   "cell_type": "code",
   "execution_count": 14,
   "id": "397c6007-7810-4be2-94e7-6a795770635e",
   "metadata": {},
   "outputs": [
    {
     "name": "stdout",
     "output_type": "stream",
     "text": [
      "Rata-rata umur data: 39.21\n"
     ]
    }
   ],
   "source": [
    "# Rata-rata umur data\n",
    "avg_age = np.round(df['age'].mean(),2)\n",
    "print(f\"Rata-rata umur data: {avg_age}\")"
   ]
  },
  {
   "cell_type": "code",
   "execution_count": 13,
   "id": "eed3bf16-8c25-4d3b-866a-ebb4f2dcff90",
   "metadata": {},
   "outputs": [
    {
     "name": "stdout",
     "output_type": "stream",
     "text": [
      "Rata-rata BMI smokers: 30.71\n"
     ]
    }
   ],
   "source": [
    "# Rata-rata nilai BMI yang merokok\n",
    "avg_bmi_smoker = round(df[df['smoker'] == 'yes']['bmi'].mean(),2)\n",
    "print(f\"Rata-rata BMI smokers: {avg_bmi_smoker}\")"
   ]
  },
  {
   "cell_type": "code",
   "execution_count": 17,
   "id": "081291ef-040c-48bb-9f07-673b2fc76649",
   "metadata": {},
   "outputs": [
    {
     "data": {
      "text/plain": [
       "smoker\n",
       "no     3.592542e+07\n",
       "yes    1.332073e+08\n",
       "Name: charges, dtype: float64"
      ]
     },
     "execution_count": 17,
     "metadata": {},
     "output_type": "execute_result"
    }
   ],
   "source": [
    "# Variansi charges dari perokok dan non perokok\n",
    "df.groupby(['smoker'])['charges'].var()"
   ]
  },
  {
   "cell_type": "code",
   "execution_count": 21,
   "id": "90d86f36-1911-49b2-9fed-1d7e048cafde",
   "metadata": {},
   "outputs": [
    {
     "data": {
      "text/plain": [
       "sex     smoker\n",
       "female  no        39.691042\n",
       "        yes       38.608696\n",
       "male    no        39.061896\n",
       "        yes       38.446541\n",
       "Name: age, dtype: float64"
      ]
     },
     "execution_count": 21,
     "metadata": {},
     "output_type": "execute_result"
    }
   ],
   "source": [
    "# Rata-rata umur perempuan dan laki-laki perokok\n",
    "df.groupby(['sex','smoker'])['age'].mean()"
   ]
  },
  {
   "cell_type": "code",
   "execution_count": 22,
   "id": "7aa275ab-002a-4202-b857-4fc17680917f",
   "metadata": {},
   "outputs": [
    {
     "data": {
      "text/plain": [
       "smoker\n",
       "no      8434.268298\n",
       "yes    32050.231832\n",
       "Name: charges, dtype: float64"
      ]
     },
     "execution_count": 22,
     "metadata": {},
     "output_type": "execute_result"
    }
   ],
   "source": [
    "# Rata-rata charges dari perokok dan non perokok\n",
    "df.groupby(['smoker'])['charges'].mean()"
   ]
  },
  {
   "cell_type": "code",
   "execution_count": 23,
   "id": "63c36fae-afb6-4934-83ec-43362f02ae2f",
   "metadata": {},
   "outputs": [
    {
     "data": {
      "text/plain": [
       "smoker\n",
       "no     30.651795\n",
       "yes    30.708449\n",
       "Name: bmi, dtype: float64"
      ]
     },
     "execution_count": 23,
     "metadata": {},
     "output_type": "execute_result"
    }
   ],
   "source": [
    "# Rata-rata bmi dari perokok dan non perokok\n",
    "df.groupby(['smoker'])['bmi'].mean()"
   ]
  },
  {
   "cell_type": "code",
   "execution_count": 24,
   "id": "ac9f106a-6c9e-4703-845a-3bdcd18eb628",
   "metadata": {},
   "outputs": [
    {
     "data": {
      "text/plain": [
       "sex\n",
       "female    30.377749\n",
       "male      30.943129\n",
       "Name: bmi, dtype: float64"
      ]
     },
     "execution_count": 24,
     "metadata": {},
     "output_type": "execute_result"
    }
   ],
   "source": [
    "# Rata-rata bmi dari perempuan dan laki-laki\n",
    "df.groupby(['sex'])['bmi'].mean()"
   ]
  },
  {
   "cell_type": "markdown",
   "id": "2ec12570-8078-43df-ab6e-8c7f5d4214da",
   "metadata": {},
   "source": [
    "### Variabel Kategorik (PMF)\n",
    "Pilih lima:\n",
    "1. Gender mana yang memiliki tagihan paling tinggi?\n",
    "2. Distribusi peluang tagihan di tiap-tiap region\n",
    "3. Apakah setiap region memiliki proporsi data banyak orang yang sama?\n",
    "4. Mana yang lebih tinggi proporsi perokok atau non perokok?\n",
    "5. Berapa peluang seseorang tersebut adalah perempuan diketahui dia adalah perokok?\n",
    "6. Berapa peluang seseorang tersebut adalah laki-laki diketahui dia adalah perokok?\n",
    "7. Bagaimana bentuk distribusi tagihan dari tiap-tiap region?\n",
    "\n",
    "Materi pertemuan : 1 - 8"
   ]
  },
  {
   "cell_type": "code",
   "execution_count": 27,
   "id": "343592b7-6eb1-4daf-90e4-857a0553c8b6",
   "metadata": {},
   "outputs": [
    {
     "data": {
      "text/html": [
       "<div>\n",
       "<style scoped>\n",
       "    .dataframe tbody tr th:only-of-type {\n",
       "        vertical-align: middle;\n",
       "    }\n",
       "\n",
       "    .dataframe tbody tr th {\n",
       "        vertical-align: top;\n",
       "    }\n",
       "\n",
       "    .dataframe thead th {\n",
       "        text-align: right;\n",
       "    }\n",
       "</style>\n",
       "<table border=\"1\" class=\"dataframe\">\n",
       "  <thead>\n",
       "    <tr style=\"text-align: right;\">\n",
       "      <th></th>\n",
       "      <th>age</th>\n",
       "      <th>sex</th>\n",
       "      <th>bmi</th>\n",
       "      <th>children</th>\n",
       "      <th>smoker</th>\n",
       "      <th>region</th>\n",
       "      <th>charges</th>\n",
       "    </tr>\n",
       "  </thead>\n",
       "  <tbody>\n",
       "    <tr>\n",
       "      <th>0</th>\n",
       "      <td>19</td>\n",
       "      <td>female</td>\n",
       "      <td>27.900</td>\n",
       "      <td>0</td>\n",
       "      <td>yes</td>\n",
       "      <td>southwest</td>\n",
       "      <td>16884.92400</td>\n",
       "    </tr>\n",
       "    <tr>\n",
       "      <th>1</th>\n",
       "      <td>18</td>\n",
       "      <td>male</td>\n",
       "      <td>33.770</td>\n",
       "      <td>1</td>\n",
       "      <td>no</td>\n",
       "      <td>southeast</td>\n",
       "      <td>1725.55230</td>\n",
       "    </tr>\n",
       "    <tr>\n",
       "      <th>2</th>\n",
       "      <td>28</td>\n",
       "      <td>male</td>\n",
       "      <td>33.000</td>\n",
       "      <td>3</td>\n",
       "      <td>no</td>\n",
       "      <td>southeast</td>\n",
       "      <td>4449.46200</td>\n",
       "    </tr>\n",
       "    <tr>\n",
       "      <th>3</th>\n",
       "      <td>33</td>\n",
       "      <td>male</td>\n",
       "      <td>22.705</td>\n",
       "      <td>0</td>\n",
       "      <td>no</td>\n",
       "      <td>northwest</td>\n",
       "      <td>21984.47061</td>\n",
       "    </tr>\n",
       "    <tr>\n",
       "      <th>4</th>\n",
       "      <td>32</td>\n",
       "      <td>male</td>\n",
       "      <td>28.880</td>\n",
       "      <td>0</td>\n",
       "      <td>no</td>\n",
       "      <td>northwest</td>\n",
       "      <td>3866.85520</td>\n",
       "    </tr>\n",
       "  </tbody>\n",
       "</table>\n",
       "</div>"
      ],
      "text/plain": [
       "   age     sex     bmi  children smoker     region      charges\n",
       "0   19  female  27.900         0    yes  southwest  16884.92400\n",
       "1   18    male  33.770         1     no  southeast   1725.55230\n",
       "2   28    male  33.000         3     no  southeast   4449.46200\n",
       "3   33    male  22.705         0     no  northwest  21984.47061\n",
       "4   32    male  28.880         0     no  northwest   3866.85520"
      ]
     },
     "execution_count": 27,
     "metadata": {},
     "output_type": "execute_result"
    }
   ],
   "source": [
    "df.head()"
   ]
  },
  {
   "cell_type": "code",
   "execution_count": 26,
   "id": "bfb8454d-2388-4031-a28b-a1248e40fdd9",
   "metadata": {},
   "outputs": [
    {
     "data": {
      "text/plain": [
       "sex\n",
       "female    12569.578844\n",
       "male      13956.751178\n",
       "Name: charges, dtype: float64"
      ]
     },
     "execution_count": 26,
     "metadata": {},
     "output_type": "execute_result"
    }
   ],
   "source": [
    "# Gender dengan tagihan paling tinggi\n",
    "df.groupby(['sex'])['charges'].mean()"
   ]
  },
  {
   "cell_type": "code",
   "execution_count": 32,
   "id": "71879c76-19eb-452f-884d-389bd4a5ec59",
   "metadata": {},
   "outputs": [
    {
     "data": {
      "text/plain": [
       "region\n",
       "northeast    0.245\n",
       "northwest    0.227\n",
       "southeast    0.302\n",
       "southwest    0.226\n",
       "Name: charges, dtype: float64"
      ]
     },
     "execution_count": 32,
     "metadata": {},
     "output_type": "execute_result"
    }
   ],
   "source": [
    "# Distribusi peluang tagihan tiap region\n",
    "round(df.groupby(['region'])['charges'].sum()/df['charges'].sum(),3)"
   ]
  },
  {
   "cell_type": "code",
   "execution_count": 34,
   "id": "ea8e266b-57df-4a2b-a1b1-2d0b36fac332",
   "metadata": {},
   "outputs": [
    {
     "data": {
      "text/plain": [
       "southeast    364\n",
       "southwest    325\n",
       "northwest    325\n",
       "northeast    324\n",
       "Name: region, dtype: int64"
      ]
     },
     "execution_count": 34,
     "metadata": {},
     "output_type": "execute_result"
    }
   ],
   "source": [
    "# Proporsi data per region\n",
    "df['region'].value_counts()"
   ]
  },
  {
   "cell_type": "code",
   "execution_count": 37,
   "id": "a6518012-9a27-445c-8ad8-acb5a5e4cfc9",
   "metadata": {},
   "outputs": [
    {
     "data": {
      "text/plain": [
       "no     1064\n",
       "yes     274\n",
       "Name: smoker, dtype: int64"
      ]
     },
     "execution_count": 37,
     "metadata": {},
     "output_type": "execute_result"
    }
   ],
   "source": [
    "# Proporsi perokok atau non perokok\n",
    "df['smoker'].value_counts()"
   ]
  },
  {
   "cell_type": "markdown",
   "id": "f01ad492-69de-470a-9715-583a5098cefb",
   "metadata": {},
   "source": [
    "$$\n",
    "\\begin{align*}\n",
    "P(A \\ | \\ B) &= \\cfrac{n(A \\cap B)}{n(B)} \\\\ \n",
    " &= \\cfrac{P(A \\cap B)}{P(B)}\n",
    "\\end{align*}\n",
    "$$"
   ]
  },
  {
   "cell_type": "markdown",
   "id": "e314ad0d-afb3-4b82-84c7-fb265d9e6189",
   "metadata": {},
   "source": [
    "Berapa peluang seseorang tersebut adalah perempuan diketahui dia adalah perokok?\n",
    "- A = peluang perempuan\n",
    "- B = peluang perokok"
   ]
  },
  {
   "cell_type": "markdown",
   "id": "c2e69e9d-5be0-4185-8df8-945ca143e120",
   "metadata": {},
   "source": [
    "$$\n",
    "\\begin{align*}\n",
    "P(\\text{perempuan} \\ | \\ \\text{perokok}) &= \\cfrac{n(\\text{perempuan} \\cap \\text{perokok})}{n(\\text{perokok})}\n",
    "\\end{align*}\n",
    "$$"
   ]
  },
  {
   "cell_type": "code",
   "execution_count": 46,
   "id": "48181b65-97f0-4a43-af29-a82cc3c5e7d4",
   "metadata": {},
   "outputs": [
    {
     "data": {
      "text/plain": [
       "115"
      ]
     },
     "execution_count": 46,
     "metadata": {},
     "output_type": "execute_result"
    }
   ],
   "source": [
    "n_perempuan_perokok = len(df[(df['sex'] == 'female') & (df['smoker']=='yes')])\n",
    "n_perempuan_perokok"
   ]
  },
  {
   "cell_type": "code",
   "execution_count": 45,
   "id": "73a4e763-711b-45f7-b740-b7546b4bdaaa",
   "metadata": {},
   "outputs": [
    {
     "data": {
      "text/plain": [
       "274"
      ]
     },
     "execution_count": 45,
     "metadata": {},
     "output_type": "execute_result"
    }
   ],
   "source": [
    "n_perokok = len(df[df['smoker']=='yes'])\n",
    "n_perokok"
   ]
  },
  {
   "cell_type": "code",
   "execution_count": 48,
   "id": "9b178669-de0c-4d4a-ba89-4a7830f51f6b",
   "metadata": {},
   "outputs": [
    {
     "name": "stdout",
     "output_type": "stream",
     "text": [
      "peluang seseorang tersebut adalah perempuan diketahui dia adalah perokok: 41.971%\n"
     ]
    }
   ],
   "source": [
    "#peluang seseorang tersebut adalah perempuan diketahui dia adalah perokok?\n",
    "p_perempuan_perokok = round((n_perempuan_perokok / n_perokok)*100,3)\n",
    "print(f\"peluang seseorang tersebut adalah perempuan diketahui dia adalah perokok: {p_perempuan_perokok}%\")"
   ]
  },
  {
   "cell_type": "markdown",
   "id": "052035f4-e66b-4462-820b-b08cf4219378",
   "metadata": {},
   "source": [
    "Berapa peluang seseorang tersebut adalah laki-laki diketahui dia adalah perokok?\n",
    "- A = peluang laki-laki\n",
    "- B = peluang perokok"
   ]
  },
  {
   "cell_type": "code",
   "execution_count": 49,
   "id": "4814cfdc-2850-4865-ae30-e77ef670295e",
   "metadata": {},
   "outputs": [
    {
     "data": {
      "text/plain": [
       "159"
      ]
     },
     "execution_count": 49,
     "metadata": {},
     "output_type": "execute_result"
    }
   ],
   "source": [
    "n_laki_perokok = len(df[(df['sex'] == 'male') & (df['smoker']=='yes')])\n",
    "n_laki_perokok"
   ]
  },
  {
   "cell_type": "code",
   "execution_count": 51,
   "id": "3adcf068-69ff-42b8-8401-9af1b87057fa",
   "metadata": {},
   "outputs": [
    {
     "name": "stdout",
     "output_type": "stream",
     "text": [
      "peluang seseorang tersebut adalah laki-laki diketahui dia adalah perokok: 58.029%\n"
     ]
    }
   ],
   "source": [
    "#peluang seseorang tersebut adalah laki-laki diketahui dia adalah perokok?\n",
    "p_laki_perokok = round((n_laki_perokok / n_perokok)*100,3)\n",
    "print(f\"peluang seseorang tersebut adalah laki-laki diketahui dia adalah perokok: {p_laki_perokok}%\")"
   ]
  },
  {
   "cell_type": "markdown",
   "id": "55d12f3d-7eb4-4b30-b01e-7fd1f9ee2353",
   "metadata": {},
   "source": [
    "###  Analisa Variabel Kontinu (CDF)\n",
    "1. Mencari peluang besar tagihan berdasarkan BMI\n",
    "2. Mencari kemungkin terjadi, seorang perokok dengan BMI diatas 25 akan mendapatkan\n",
    "tagihan kesehatan di atas 16.700.\n",
    "3. Berapa peluang seseorang acak tagihan kesehatannya diatas 16.7k diketahui dia adalah\n",
    "perokok\n",
    "4. Mana yang lebih mungkin terjadi\n",
    "a. Seseorang dengan BMI diatas 25 mendapatkan tagihan kesehatan diatas 16.7k,\n",
    "atau\n",
    "b. Seseorang dengan BMI dibawah 25 mendapatkan tagihan kesehatan diatas\n",
    "16.7k\n",
    "5. Mana yang lebih mungkin terjadi\n",
    "a. Seseorang perokok dengan BMI diatas 25 mendapatkan tagihan kesehatan\n",
    "diatas 16.7k, atau\n",
    "b. Seseorang non perokok dengan BMI diatas 25 mendapatkan tagihan kesehatan\n",
    "diatas 16.7k"
   ]
  },
  {
   "cell_type": "code",
   "execution_count": 105,
   "id": "8aa85ae0-c73e-432d-879e-7754dc65c949",
   "metadata": {},
   "outputs": [],
   "source": [
    "cdf_link = \"https://www.geeksforgeeks.org/how-to-calculate-and-plot-a-cumulative-distribution-function-with-matplotlib-in-python/\""
   ]
  },
  {
   "cell_type": "code",
   "execution_count": 75,
   "id": "68bdaee5-7643-483e-a1a9-0f47928c3259",
   "metadata": {},
   "outputs": [
    {
     "data": {
      "image/png": "[encoded data removed]",
      "text/plain": [
       "<Figure size 432x288 with 1 Axes>"
      ]
     },
     "metadata": {
      "needs_background": "light"
     },
     "output_type": "display_data"
    }
   ],
   "source": [
    "plt.hist(df['bmi'], bins=10)\n",
    "plt.xlabel(\"bmi\")\n",
    "plt.show()"
   ]
  },
  {
   "cell_type": "code",
   "execution_count": 53,
   "id": "f1ac3375-c849-48b3-b99f-de4e1e483ebd",
   "metadata": {},
   "outputs": [],
   "source": [
    "import scipy.stats as stats"
   ]
  },
  {
   "cell_type": "code",
   "execution_count": 70,
   "id": "b4881437-8aa8-4bdd-94ed-f918dbbe57df",
   "metadata": {},
   "outputs": [],
   "source": [
    "count, bins_count = np.histogram(df['bmi'], bins=10)"
   ]
  },
  {
   "cell_type": "code",
   "execution_count": 73,
   "id": "0dfc72f2-2c78-4560-8bca-264687b4ed59",
   "metadata": {},
   "outputs": [
    {
     "data": {
      "text/plain": [
       "array([0.02242152, 0.11733931, 0.2922272 , 0.53064275, 0.74588939,\n",
       "       0.8916293 , 0.96337818, 0.98729447, 0.99775785, 1.        ])"
      ]
     },
     "execution_count": 73,
     "metadata": {},
     "output_type": "execute_result"
    }
   ],
   "source": [
    "pdf = count / sum(count)\n",
    "  \n",
    "# using numpy np.cumsum to calculate the CDF\n",
    "# We can also find using the PDF values by looping and adding\n",
    "cdf = np.cumsum(pdf)\n",
    "cdf"
   ]
  },
  {
   "cell_type": "code",
   "execution_count": 74,
   "id": "beaf4a97-6156-4301-b3e9-967e4069acf3",
   "metadata": {},
   "outputs": [
    {
     "data": {
      "text/plain": [
       "<matplotlib.legend.Legend at 0x158a022f1c0>"
      ]
     },
     "execution_count": 74,
     "metadata": {},
     "output_type": "execute_result"
    },
    {
     "data": {
      "image/png": "[encoded data removed]",
      "text/plain": [
       "<Figure size 432x288 with 1 Axes>"
      ]
     },
     "metadata": {
      "needs_background": "light"
     },
     "output_type": "display_data"
    }
   ],
   "source": [
    "# plotting PDF and CDF\n",
    "plt.plot(bins_count[1:], pdf, color=\"red\", label=\"PDF\")\n",
    "plt.plot(bins_count[1:], cdf, label=\"CDF\")\n",
    "plt.legend()"
   ]
  },
  {
   "cell_type": "markdown",
   "id": "6dd3b3d2-3e60-4d13-8b12-9ff906062665",
   "metadata": {},
   "source": [
    "2. Mencari kemungkin terjadi, seorang perokok dengan BMI diatas 25 akan mendapatkan\n",
    "tagihan kesehatan di atas 16.700."
   ]
  },
  {
   "cell_type": "code",
   "execution_count": 85,
   "id": "84fbd3de-c773-4c3f-b71c-0e3075da3d59",
   "metadata": {},
   "outputs": [],
   "source": [
    "mean_bmi = df['bmi'].mean()\n",
    "var_bmi  = df['bmi'].var()"
   ]
  },
  {
   "cell_type": "code",
   "execution_count": 80,
   "id": "1bc24035-54b4-489b-a2d4-344399485feb",
   "metadata": {},
   "outputs": [],
   "source": [
    "from scipy.stats import norm"
   ]
  },
  {
   "cell_type": "code",
   "execution_count": 87,
   "id": "9acb2de6-892d-4a7a-a33d-b7b8ab2de5bb",
   "metadata": {},
   "outputs": [],
   "source": [
    "x = 25\n",
    "std_bmi = np.sqrt(var_bmi)\n",
    "P2 = 1- norm.cdf(x, mean_bmi, std_bmi)"
   ]
  },
  {
   "cell_type": "code",
   "execution_count": 88,
   "id": "2bd59605-6570-4892-9761-ae6c77c814af",
   "metadata": {},
   "outputs": [
    {
     "data": {
      "text/plain": [
       "0.823478163385892"
      ]
     },
     "execution_count": 88,
     "metadata": {},
     "output_type": "execute_result"
    }
   ],
   "source": [
    "P2"
   ]
  },
  {
   "cell_type": "code",
   "execution_count": 89,
   "id": "74beb139-25ac-432f-8fcf-10d9c47bb164",
   "metadata": {},
   "outputs": [],
   "source": [
    "mean_charges = df['charges'].mean()\n",
    "var_charges  = df['charges'].var()"
   ]
  },
  {
   "cell_type": "code",
   "execution_count": 90,
   "id": "b2134179-3e38-47d5-98dc-1ddb038eee9d",
   "metadata": {},
   "outputs": [
    {
     "data": {
      "text/plain": [
       "0.8629694462694538"
      ]
     },
     "execution_count": 90,
     "metadata": {},
     "output_type": "execute_result"
    }
   ],
   "source": [
    "y = 16700\n",
    "std_charges = np.sqrt(var_charges)\n",
    "P3 = 1- norm.cdf(x, mean_charges, std_charges)\n",
    "P3"
   ]
  },
  {
   "cell_type": "code",
   "execution_count": 91,
   "id": "eacfd8d2-251f-44b7-b141-f402e62d2743",
   "metadata": {},
   "outputs": [
    {
     "data": {
      "text/plain": [
       "0.71063649467211"
      ]
     },
     "execution_count": 91,
     "metadata": {},
     "output_type": "execute_result"
    }
   ],
   "source": [
    "P2 * P3"
   ]
  },
  {
   "cell_type": "markdown",
   "id": "5d7acbee-be77-4a65-8d11-f91cec625f35",
   "metadata": {},
   "source": [
    "3. Berapa peluang seseorang acak tagihan kesehatannya diatas 16.7k diketahui dia adalah\n",
    "perokok"
   ]
  },
  {
   "cell_type": "code",
   "execution_count": 93,
   "id": "63ba2073-b23d-41c3-9f94-3584d3463239",
   "metadata": {},
   "outputs": [
    {
     "data": {
      "text/plain": [
       "0.20478325859491778"
      ]
     },
     "execution_count": 93,
     "metadata": {},
     "output_type": "execute_result"
    }
   ],
   "source": [
    "p_perokok = len(df[df['smoker']=='yes'])/len(df)\n",
    "p_perokok"
   ]
  },
  {
   "cell_type": "code",
   "execution_count": 94,
   "id": "a149ce47-a5c3-4f42-ae0b-e6a6c930b229",
   "metadata": {},
   "outputs": [
    {
     "data": {
      "text/plain": [
       "0.17672169527491055"
      ]
     },
     "execution_count": 94,
     "metadata": {},
     "output_type": "execute_result"
    }
   ],
   "source": [
    "P3 * p_perokok"
   ]
  },
  {
   "cell_type": "markdown",
   "id": "20686dd9-2049-44b2-a92b-e2c9dadd986d",
   "metadata": {},
   "source": [
    "Mencari kemungkin terjadi, seorang perokok dengan BMI diatas 25 akan mendapatkan tagihan kesehatan di atas 16.700"
   ]
  },
  {
   "cell_type": "code",
   "execution_count": 14,
   "id": "424957f1-29dd-4b2f-a3c7-d50f8f142681",
   "metadata": {},
   "outputs": [
    {
     "data": {
      "text/plain": [
       "0.85"
      ]
     },
     "execution_count": 14,
     "metadata": {},
     "output_type": "execute_result"
    }
   ],
   "source": [
    "smoker = df[df['smoker'] == 'yes']\n",
    "smoker_bmi_25 = len(df[(df['bmi'] > 25) & (df['charges']>16700)])\n",
    "charge_over = len(df[df['charges']>16700])\n",
    "\n",
    "pmf = round(smoker_bmi_25/charge_over,2)\n",
    "pmf"
   ]
  },
  {
   "cell_type": "markdown",
   "id": "3fc9284d-a6ad-4e36-8f9f-2befe13bfc6a",
   "metadata": {},
   "source": [
    "Berapa peluang seseorang acak tagihan kesehatannya diatas 16.7k diketahui dia adalah perokok"
   ]
  },
  {
   "cell_type": "code",
   "execution_count": 17,
   "id": "5e065a78-3d20-45d8-bcbb-1a80c7bec45f",
   "metadata": {},
   "outputs": [
    {
     "data": {
      "text/plain": [
       "0.93"
      ]
     },
     "execution_count": 17,
     "metadata": {},
     "output_type": "execute_result"
    }
   ],
   "source": [
    "charge_over =  len(df[(df['smoker'] == 'yes') & (df['charges']>16700)])\n",
    "smoker = len( df[df['smoker'] == 'yes'])\n",
    "pmf = round(charge_over/ smoker,2)\n",
    "pmf"
   ]
  },
  {
   "cell_type": "markdown",
   "id": "d8288efa-8e84-40b7-9654-bf6a8307905b",
   "metadata": {},
   "source": [
    "Mana yang lebih mungkin terjadi\n",
    "- Seseorang dengan BMI diatas 25 mendapatkan tagihan kesehatan diatas 16.7k, atau \n",
    "- Seseorang dengan BMI dibawah 25 mendapatkan tagihan kesehatan diatas 16.7k"
   ]
  },
  {
   "cell_type": "code",
   "execution_count": 102,
   "id": "b02f4067-385e-4966-9aa4-5267c1904f7d",
   "metadata": {},
   "outputs": [
    {
     "name": "stdout",
     "output_type": "stream",
     "text": [
      "peluang seseorang dengan BMI diatas 25 mendapat tagihan kesehatan di atas 16.7k: 85.0%\n",
      "peluang seseorang dengan BMI dibawah 25 mendapat tagihan kesehatan di atas 16.7k: 15.0%\n"
     ]
    }
   ],
   "source": [
    "charge_over =  len(df[df['charges']>16700])\n",
    "bmi_25_atas = len(df[(df['bmi'] >25) &(df['charges'] > 16700)])\n",
    "bmi_25_bawah = len(df[(df['bmi'] <25) &(df['charges'] > 16700)])\n",
    "\n",
    "atas_25 = round(bmi_25_atas / charge_over,2)\n",
    "bawah_25 = round(bmi_25_bawah / charge_over,2)\n",
    "print(f\"peluang seseorang dengan BMI diatas 25 mendapat tagihan kesehatan di atas 16.7k: {atas_25*100}%\")\n",
    "print(f\"peluang seseorang dengan BMI dibawah 25 mendapat tagihan kesehatan di atas 16.7k: {bawah_25*100}%\")"
   ]
  },
  {
   "cell_type": "markdown",
   "id": "35c2e390-3ce2-4563-9a4a-b83b8db480c4",
   "metadata": {},
   "source": [
    "Mana yang lebih mungkin terjadi  \n",
    "- Seseorang perokok dengan BMI diatas 25 mendapatkan tagihan kesehatan diatas 16.7k, atau \n",
    "- Seseorang non perokok dengan BMI diatas 25 mendapatkan tagihan kesehatan diatas 16.7k"
   ]
  },
  {
   "cell_type": "code",
   "execution_count": 104,
   "id": "d630653d-cdb6-4730-bbd0-3c5e9f3e4585",
   "metadata": {},
   "outputs": [
    {
     "name": "stdout",
     "output_type": "stream",
     "text": [
      "peluang seseorang perokok dengan BMI diatas 25 mendapat tagihan kesehatan di atas 16.7k: 76.0%\n",
      "peluang seseorang non-perokok dengan BMI diatas 25 mendapat tagihan kesehatan di atas 16.7k: 24.0%\n"
     ]
    }
   ],
   "source": [
    "charge_over =  len(df[(df['charges']>16700) & (df['bmi']>25)])\n",
    "\n",
    "perokok_bmi_25_atas = len(df[(df['bmi'] > 25) & (df['smoker'] == 'yes') & (df['charges']>16700)])\n",
    "non_perokok_bmi_25_atas = len(df[(df['bmi'] > 25) & (df['smoker'] == 'no') & (df['charges']>16700)])\n",
    "\n",
    "pmf_perokok_bmi_25_atas = round(perokok_bmi_25_atas / charge_over,2)\n",
    "pmf_non_perokok_bmi_25_atas = round(non_perokok_bmi_25_atas / charge_over,2)\n",
    "print(f\"peluang seseorang perokok dengan BMI diatas 25 mendapat tagihan kesehatan di atas 16.7k: {pmf_perokok_bmi_25_atas*100}%\")\n",
    "print(f\"peluang seseorang non-perokok dengan BMI diatas 25 mendapat tagihan kesehatan di atas 16.7k: {pmf_non_perokok_bmi_25_atas*100}%\")"
   ]
  },
  {
   "cell_type": "markdown",
   "id": "bb8e62ec-f680-45a6-ad5a-479c453db771",
   "metadata": {},
   "source": [
    "###   Analisa Korelasi Variabel"
   ]
  },
  {
   "cell_type": "code",
   "execution_count": 33,
   "id": "6fb56ea9-4106-4003-b73b-cd533c4cf093",
   "metadata": {},
   "outputs": [],
   "source": [
    "import seaborn as sns"
   ]
  },
  {
   "cell_type": "code",
   "execution_count": 29,
   "id": "185ad99e-4ab9-4516-81c8-4f77f86ad0ac",
   "metadata": {},
   "outputs": [
    {
     "data": {
      "text/html": [
       "<div>\n",
       "<style scoped>\n",
       "    .dataframe tbody tr th:only-of-type {\n",
       "        vertical-align: middle;\n",
       "    }\n",
       "\n",
       "    .dataframe tbody tr th {\n",
       "        vertical-align: top;\n",
       "    }\n",
       "\n",
       "    .dataframe thead th {\n",
       "        text-align: right;\n",
       "    }\n",
       "</style>\n",
       "<table border=\"1\" class=\"dataframe\">\n",
       "  <thead>\n",
       "    <tr style=\"text-align: right;\">\n",
       "      <th></th>\n",
       "      <th>age</th>\n",
       "      <th>sex</th>\n",
       "      <th>bmi</th>\n",
       "      <th>children</th>\n",
       "      <th>smoker</th>\n",
       "      <th>region</th>\n",
       "      <th>charges</th>\n",
       "    </tr>\n",
       "  </thead>\n",
       "  <tbody>\n",
       "    <tr>\n",
       "      <th>0</th>\n",
       "      <td>19</td>\n",
       "      <td>female</td>\n",
       "      <td>27.900</td>\n",
       "      <td>0</td>\n",
       "      <td>yes</td>\n",
       "      <td>southwest</td>\n",
       "      <td>16884.92400</td>\n",
       "    </tr>\n",
       "    <tr>\n",
       "      <th>1</th>\n",
       "      <td>18</td>\n",
       "      <td>male</td>\n",
       "      <td>33.770</td>\n",
       "      <td>1</td>\n",
       "      <td>no</td>\n",
       "      <td>southeast</td>\n",
       "      <td>1725.55230</td>\n",
       "    </tr>\n",
       "    <tr>\n",
       "      <th>2</th>\n",
       "      <td>28</td>\n",
       "      <td>male</td>\n",
       "      <td>33.000</td>\n",
       "      <td>3</td>\n",
       "      <td>no</td>\n",
       "      <td>southeast</td>\n",
       "      <td>4449.46200</td>\n",
       "    </tr>\n",
       "    <tr>\n",
       "      <th>3</th>\n",
       "      <td>33</td>\n",
       "      <td>male</td>\n",
       "      <td>22.705</td>\n",
       "      <td>0</td>\n",
       "      <td>no</td>\n",
       "      <td>northwest</td>\n",
       "      <td>21984.47061</td>\n",
       "    </tr>\n",
       "    <tr>\n",
       "      <th>4</th>\n",
       "      <td>32</td>\n",
       "      <td>male</td>\n",
       "      <td>28.880</td>\n",
       "      <td>0</td>\n",
       "      <td>no</td>\n",
       "      <td>northwest</td>\n",
       "      <td>3866.85520</td>\n",
       "    </tr>\n",
       "  </tbody>\n",
       "</table>\n",
       "</div>"
      ],
      "text/plain": [
       "   age     sex     bmi  children smoker     region      charges\n",
       "0   19  female  27.900         0    yes  southwest  16884.92400\n",
       "1   18    male  33.770         1     no  southeast   1725.55230\n",
       "2   28    male  33.000         3     no  southeast   4449.46200\n",
       "3   33    male  22.705         0     no  northwest  21984.47061\n",
       "4   32    male  28.880         0     no  northwest   3866.85520"
      ]
     },
     "execution_count": 29,
     "metadata": {},
     "output_type": "execute_result"
    }
   ],
   "source": [
    "df.head()"
   ]
  },
  {
   "cell_type": "code",
   "execution_count": 30,
   "id": "c7b8482e-7087-425a-afa1-187edccce66a",
   "metadata": {},
   "outputs": [
    {
     "data": {
      "text/plain": [
       "array([[1.        , 0.05967388],\n",
       "       [0.05967388, 1.        ]])"
      ]
     },
     "execution_count": 30,
     "metadata": {},
     "output_type": "execute_result"
    }
   ],
   "source": [
    "smoker = df[df['smoker'] == 'yes']\n",
    "corr_age_bmi = np.corrcoef(smoker['age'],smoker['bmi'])\n",
    "corr_age_bmi"
   ]
  },
  {
   "cell_type": "code",
   "execution_count": 31,
   "id": "7be88bc0-d114-44a2-b4e6-bee7633a2b88",
   "metadata": {},
   "outputs": [
    {
     "data": {
      "text/plain": [
       "array([[1.        , 0.80648061],\n",
       "       [0.80648061, 1.        ]])"
      ]
     },
     "execution_count": 31,
     "metadata": {},
     "output_type": "execute_result"
    }
   ],
   "source": [
    "corr_charges_bmi = np.corrcoef(smoker['charges'],smoker['bmi'])\n",
    "corr_charges_bmi"
   ]
  },
  {
   "cell_type": "code",
   "execution_count": 76,
   "id": "85b6ec53-7e38-48ae-b6ff-403a0d81b400",
   "metadata": {},
   "outputs": [
    {
     "data": {
      "image/png": "[encoded data removed]",
      "text/plain": [
       "<Figure size 432x288 with 1 Axes>"
      ]
     },
     "metadata": {
      "needs_background": "light"
     },
     "output_type": "display_data"
    }
   ],
   "source": [
    "plt.scatter(smoker['charges'],smoker['bmi'])\n",
    "plt.title('Correlation of Charges and BMI')\n",
    "plt.show()"
   ]
  },
  {
   "cell_type": "code",
   "execution_count": null,
   "id": "12c26d69-5bce-4567-a407-7867f84856a2",
   "metadata": {},
   "outputs": [
    {
     "data": {
      "text/html": [
       "<style type=\"text/css\">\n",
       "#T_6b259_row0_col0, #T_6b259_row1_col1, #T_6b259_row2_col2, #T_6b259_row3_col3 {\n",
       "  background-color: #b40426;\n",
       "  color: #f1f1f1;\n",
       "}\n",
       "#T_6b259_row0_col1 {\n",
       "  background-color: #5977e3;\n",
       "  color: #f1f1f1;\n",
       "}\n",
       "#T_6b259_row0_col2 {\n",
       "  background-color: #4358cb;\n",
       "  color: #f1f1f1;\n",
       "}\n",
       "#T_6b259_row0_col3 {\n",
       "  background-color: #8caffe;\n",
       "  color: #000000;\n",
       "}\n",
       "#T_6b259_row1_col0 {\n",
       "  background-color: #4f69d9;\n",
       "  color: #f1f1f1;\n",
       "}\n",
       "#T_6b259_row1_col2, #T_6b259_row2_col0, #T_6b259_row2_col1, #T_6b259_row2_col3 {\n",
       "  background-color: #3b4cc0;\n",
       "  color: #f1f1f1;\n",
       "}\n",
       "#T_6b259_row1_col3 {\n",
       "  background-color: #6687ed;\n",
       "  color: #f1f1f1;\n",
       "}\n",
       "#T_6b259_row3_col0 {\n",
       "  background-color: #93b5fe;\n",
       "  color: #000000;\n",
       "}\n",
       "#T_6b259_row3_col1 {\n",
       "  background-color: #779af7;\n",
       "  color: #f1f1f1;\n",
       "}\n",
       "#T_6b259_row3_col2 {\n",
       "  background-color: #4b64d5;\n",
       "  color: #f1f1f1;\n",
       "}\n",
       "</style>\n",
       "<table id=\"T_6b259_\">\n",
       "  <thead>\n",
       "    <tr>\n",
       "      <th class=\"blank level0\" >&nbsp;</th>\n",
       "      <th class=\"col_heading level0 col0\" >age</th>\n",
       "      <th class=\"col_heading level0 col1\" >bmi</th>\n",
       "      <th class=\"col_heading level0 col2\" >children</th>\n",
       "      <th class=\"col_heading level0 col3\" >charges</th>\n",
       "    </tr>\n",
       "  </thead>\n",
       "  <tbody>\n",
       "    <tr>\n",
       "      <th id=\"T_6b259_level0_row0\" class=\"row_heading level0 row0\" >age</th>\n",
       "      <td id=\"T_6b259_row0_col0\" class=\"data row0 col0\" >1.000000</td>\n",
       "      <td id=\"T_6b259_row0_col1\" class=\"data row0 col1\" >0.109272</td>\n",
       "      <td id=\"T_6b259_row0_col2\" class=\"data row0 col2\" >0.042469</td>\n",
       "      <td id=\"T_6b259_row0_col3\" class=\"data row0 col3\" >0.299008</td>\n",
       "    </tr>\n",
       "    <tr>\n",
       "      <th id=\"T_6b259_level0_row1\" class=\"row_heading level0 row1\" >bmi</th>\n",
       "      <td id=\"T_6b259_row1_col0\" class=\"data row1 col0\" >0.109272</td>\n",
       "      <td id=\"T_6b259_row1_col1\" class=\"data row1 col1\" >1.000000</td>\n",
       "      <td id=\"T_6b259_row1_col2\" class=\"data row1 col2\" >0.012759</td>\n",
       "      <td id=\"T_6b259_row1_col3\" class=\"data row1 col3\" >0.198341</td>\n",
       "    </tr>\n",
       "    <tr>\n",
       "      <th id=\"T_6b259_level0_row2\" class=\"row_heading level0 row2\" >children</th>\n",
       "      <td id=\"T_6b259_row2_col0\" class=\"data row2 col0\" >0.042469</td>\n",
       "      <td id=\"T_6b259_row2_col1\" class=\"data row2 col1\" >0.012759</td>\n",
       "      <td id=\"T_6b259_row2_col2\" class=\"data row2 col2\" >1.000000</td>\n",
       "      <td id=\"T_6b259_row2_col3\" class=\"data row2 col3\" >0.067998</td>\n",
       "    </tr>\n",
       "    <tr>\n",
       "      <th id=\"T_6b259_level0_row3\" class=\"row_heading level0 row3\" >charges</th>\n",
       "      <td id=\"T_6b259_row3_col0\" class=\"data row3 col0\" >0.299008</td>\n",
       "      <td id=\"T_6b259_row3_col1\" class=\"data row3 col1\" >0.198341</td>\n",
       "      <td id=\"T_6b259_row3_col2\" class=\"data row3 col2\" >0.067998</td>\n",
       "      <td id=\"T_6b259_row3_col3\" class=\"data row3 col3\" >1.000000</td>\n",
       "    </tr>\n",
       "  </tbody>\n",
       "</table>\n"
      ],
      "text/plain": [
       "<pandas.io.formats.style.Styler at 0x2203ca99d30>"
      ]
     },
     "execution_count": 35,
     "metadata": {},
     "output_type": "execute_result"
    }
   ],
   "source": [
    "corr = df.corr()\n",
    "corr.style.background_gradient(cmap='coolwarm')"
   ]
  },
  {
   "cell_type": "markdown",
   "id": "eabf11df-faad-4384-8b23-ecd48241856a",
   "metadata": {},
   "source": [
    "### Pengujian Hipotesis"
   ]
  },
  {
   "cell_type": "markdown",
   "id": "69c6c9c9-5154-4d36-9f05-ac42ba2d88ab",
   "metadata": {},
   "source": [
    "Tagihan kesehatan perokok lebih tinggi daripada tagihan kesehatan non perokok"
   ]
  },
  {
   "cell_type": "code",
   "execution_count": 77,
   "id": "5d42dc4c-0234-4497-b2c0-07566b4d6b4b",
   "metadata": {},
   "outputs": [],
   "source": [
    "smoker = df[df['smoker'] == 'yes']\n",
    "non_smoker = df[df['smoker'] == 'no']\n",
    "a = 0.05"
   ]
  },
  {
   "cell_type": "code",
   "execution_count": 80,
   "id": "9f6b13b8-e825-4ed2-90cf-ec856bc090e5",
   "metadata": {},
   "outputs": [
    {
     "name": "stdout",
     "output_type": "stream",
     "text": [
      "Variance Charges Smoker: 133207311.2063\n",
      "Variance Charges Non-Smoker: 35925420.4961\n"
     ]
    }
   ],
   "source": [
    "var_smoker = smoker['charges'].var()\n",
    "var_non_smoker = non_smoker['charges'].var()\n",
    "print('Variance Charges Smoker: %.4f'%(var_smoker))\n",
    "print('Variance Charges Non-Smoker: %.4f'%(var_non_smoker))"
   ]
  },
  {
   "cell_type": "code",
   "execution_count": 81,
   "id": "0b231110-f531-4284-ac86-1a22d3d8ff5e",
   "metadata": {},
   "outputs": [
    {
     "name": "stdout",
     "output_type": "stream",
     "text": [
      "Mean Charges Smoker: 32050.2318\n",
      "Mean Charges Non - Smoker: 8434.2683\n"
     ]
    }
   ],
   "source": [
    "mean_smoker = smoker['charges'].mean()\n",
    "print('Mean Charges Smoker: %.4f'%(mean_smoker))\n",
    "mean_non_smoker = non_smoker['charges'].mean()\n",
    "print('Mean Charges Non - Smoker: %.4f'%(mean_non_smoker))"
   ]
  },
  {
   "cell_type": "markdown",
   "id": "3a3e2a23-fcb2-4576-8d93-5698b208e07b",
   "metadata": {},
   "source": [
    "$$ H_0 : p_1 \\geq p_2$$\n",
    "$$ H_a : p_1 < p_2$$\n",
    "- p1: charges for smokers\n",
    "- p2: charges for non smokers\n"
   ]
  },
  {
   "cell_type": "code",
   "execution_count": 84,
   "id": "a00e263d-6df0-44ca-94ab-492d5046b8e6",
   "metadata": {},
   "outputs": [
    {
     "name": "stdout",
     "output_type": "stream",
     "text": [
      "Statistics: 32.7519, p-value: 1.0000\n",
      "Terima null hypothesis\n"
     ]
    }
   ],
   "source": [
    "stat, p = ttest_ind(smoker['charges'],non_smoker['charges'], equal_var=False,alternative = 'less')\n",
    "print('Statistics: %.4f, p-value: %.4f'%(stat,p))\n",
    "if p > a:\n",
    "    print('Terima null hypothesis')\n",
    "else:\n",
    "    print('Tolak null hypothesis')"
   ]
  },
  {
   "cell_type": "code",
   "execution_count": 85,
   "id": "dd8b7260-d391-4262-940b-37edf542ed94",
   "metadata": {},
   "outputs": [
    {
     "data": {
      "text/plain": [
       "(32.751887766341824, 1.0)"
      ]
     },
     "execution_count": 85,
     "metadata": {},
     "output_type": "execute_result"
    }
   ],
   "source": [
    "from scipy.stats import ttest_ind\n",
    "\n",
    "stat, p = ttest_ind(smoker['charges'],non_smoker['charges'], equal_var = False, alternative = 'less')\n",
    "stat , p"
   ]
  },
  {
   "cell_type": "markdown",
   "id": "12e4be68-8a14-4646-a9e1-2332e549c367",
   "metadata": {},
   "source": [
    "Tagihan kesehatan dengan BMI diatas 25 lebih tinggi daripada tagihan kesehatan\n",
    "dengan BMI dibawah 25"
   ]
  },
  {
   "cell_type": "code",
   "execution_count": 53,
   "id": "3ed68619-249a-41bb-a4c1-90804e06c027",
   "metadata": {},
   "outputs": [],
   "source": [
    "high_bmi = df[df['bmi'] > 25]\n",
    "low_bmi = df[df['bmi'] < 25]"
   ]
  },
  {
   "cell_type": "code",
   "execution_count": 93,
   "id": "3827e7a3-1185-4b1c-8440-1bb3559e2b4c",
   "metadata": {},
   "outputs": [
    {
     "name": "stdout",
     "output_type": "stream",
     "text": [
      "Variance Charges of BMI > 25: 164730179.6035\n",
      "Variance Charges of BMI < 25: 56557707.4161\n"
     ]
    }
   ],
   "source": [
    "var_high_bmi = high_bmi['charges'].var()\n",
    "print('Variance Charges of BMI > 25: %.4f'%(var_high_bmi))\n",
    "var_low_bmi = low_bmi['charges'].var()\n",
    "print('Variance Charges of BMI < 25: %.4f'%(var_low_bmi))"
   ]
  },
  {
   "cell_type": "code",
   "execution_count": 94,
   "id": "e5132593-2057-4abb-b457-7331c915cff7",
   "metadata": {},
   "outputs": [
    {
     "name": "stdout",
     "output_type": "stream",
     "text": [
      "Mean Charges of BMI > 25: 13946.4760\n",
      "Mean Charges of BMI < 25: 10282.2245\n"
     ]
    }
   ],
   "source": [
    "mean_high_bmi = high_bmi['charges'].mean()\n",
    "print('Mean Charges of BMI > 25: %.4f'%(mean_high_bmi))\n",
    "mean_low_bmi = low_bmi['charges'].mean()\n",
    "print('Mean Charges of BMI < 25: %.4f'%(mean_low_bmi))"
   ]
  },
  {
   "cell_type": "markdown",
   "id": "788e03c3-33a2-474a-8a2c-8ca20dfd36b6",
   "metadata": {},
   "source": [
    "$$ H_0 : p_1 \\geq p_2$$\n",
    "$$ H_a : p_1 < p_2$$\n",
    "- p1: charges for BMI > 25\n",
    "- p2: charges for BMI < 25\n"
   ]
  },
  {
   "cell_type": "code",
   "execution_count": 95,
   "id": "1fda277e-2459-4c7f-b4ca-0cb3f440e7cf",
   "metadata": {},
   "outputs": [
    {
     "name": "stdout",
     "output_type": "stream",
     "text": [
      "Statistics: 5.9299, p-value: 1.0000\n",
      "Terima null hypothesis\n"
     ]
    }
   ],
   "source": [
    "stat, p = ttest_ind(high_bmi['charges'],low_bmi['charges'], equal_var=False,alternative = 'less')\n",
    "print('Statistics: %.4f, p-value: %.4f'%(stat,p))\n",
    "if p > a:\n",
    "    print('Terima null hypothesis')\n",
    "else:\n",
    "    print('Tolak null hypothesis')"
   ]
  },
  {
   "cell_type": "markdown",
   "id": "d0d0bdec-a14b-41db-8ea0-26f90103976f",
   "metadata": {},
   "source": [
    "Tagihan kesehatan laki-laki lebih besar dari perempuan"
   ]
  },
  {
   "cell_type": "code",
   "execution_count": 60,
   "id": "cd0a4f6b-6d74-4d6d-8687-804b12fb3cfc",
   "metadata": {},
   "outputs": [],
   "source": [
    "laki = df[df['sex'] == 'male']\n",
    "wanita = df[df['sex']=='female']"
   ]
  },
  {
   "cell_type": "code",
   "execution_count": 96,
   "id": "1fc3df34-de4f-4918-8b93-ffd04ac95d1f",
   "metadata": {},
   "outputs": [
    {
     "name": "stdout",
     "output_type": "stream",
     "text": [
      "Mean Charges Laki-laki: 13956.7512\n",
      "Mean Charges Wanita: 12569.5788\n"
     ]
    }
   ],
   "source": [
    "mean_laki = laki['charges'].mean()\n",
    "print('Mean Charges Laki-laki: %.4f'%(mean_laki))\n",
    "mean_wanita = wanita['charges'].mean()\n",
    "print('Mean Charges Wanita: %.4f'%(mean_wanita))"
   ]
  },
  {
   "cell_type": "code",
   "execution_count": 97,
   "id": "b0f0a133-471e-4a94-b896-e7ddd5c7d295",
   "metadata": {},
   "outputs": [
    {
     "name": "stdout",
     "output_type": "stream",
     "text": [
      "Variance Charges Laki-laki: 168247513.2882\n",
      "Variance Charges Wanita: 123848048.2885\n"
     ]
    }
   ],
   "source": [
    "var_laki = laki['charges'].var()\n",
    "print('Variance Charges Laki-laki: %.4f'%(var_laki))\n",
    "var_wanita = wanita['charges'].var()\n",
    "print('Variance Charges Wanita: %.4f'%(var_wanita))"
   ]
  },
  {
   "cell_type": "markdown",
   "id": "ca916d19-8080-485f-a643-0bdb54f1de34",
   "metadata": {},
   "source": [
    "$$ H_0 : p_1 \\geq p_2$$\n",
    "$$ H_a : p_1 < p_2$$\n",
    "- p1: charges for Laki - Laki\n",
    "- p2: charges for Wanita"
   ]
  },
  {
   "cell_type": "code",
   "execution_count": 100,
   "id": "04e62057-fa8c-40f8-9f90-761d30c0317b",
   "metadata": {},
   "outputs": [
    {
     "name": "stdout",
     "output_type": "stream",
     "text": [
      "Statistics: 2.1009, p-value: 0.9821\n",
      "Terima null hypothesis\n"
     ]
    }
   ],
   "source": [
    "stat, p = ttest_ind(laki['charges'],wanita['charges'], equal_var=False,alternative = 'less')\n",
    "print('Statistics: %.4f, p-value: %.4f'%(stat,p))\n",
    "if p > a:\n",
    "    print('Terima null hypothesis')\n",
    "else:\n",
    "    print('Tolak null hypothesis')"
   ]
  },
  {
   "cell_type": "markdown",
   "id": "300cd71c-43b5-45ff-8308-4a7e37bf83f5",
   "metadata": {},
   "source": [
    "$$ H_0 : p_1 = p_2$$\n",
    "$$ H_a : p_1 \\neq p_2$$\n",
    "- p1: charges for Laki - Laki\n",
    "- p2: charges for Wanita"
   ]
  },
  {
   "cell_type": "code",
   "execution_count": 99,
   "id": "bf2c5825-9cb2-4bc2-8517-eef7230abb07",
   "metadata": {},
   "outputs": [
    {
     "name": "stdout",
     "output_type": "stream",
     "text": [
      "Statistics: 2.1009, p-value: 0.0358\n",
      "Tolak null hypothesis\n"
     ]
    }
   ],
   "source": [
    "stat, p = ttest_ind(laki['charges'],wanita['charges'], equal_var=False)\n",
    "print('Statistics: %.4f, p-value: %.4f'%(stat,p))\n",
    "if p > a:\n",
    "    print('Terima null hypothesis')\n",
    "else:\n",
    "    print('Tolak null hypothesis')"
   ]
  },
  {
   "cell_type": "code",
   "execution_count": null,
   "id": "192c48a1-0cd8-4eae-bfee-50d9e7f98a82",
   "metadata": {},
   "outputs": [],
   "source": []
  }
 ],
 "metadata": {
  "kernelspec": {
   "display_name": "Python 3 (ipykernel)",
   "language": "python",
   "name": "python3"
  },
  "language_info": {
   "codemirror_mode": {
    "name": "ipython",
    "version": 3
   },
   "file_extension": ".py",
   "mimetype": "text/x-python",
   "name": "python",
   "nbconvert_exporter": "python",
   "pygments_lexer": "ipython3",
   "version": "3.9.7"
  }
 },
 "nbformat": 4,
 "nbformat_minor": 5
}
